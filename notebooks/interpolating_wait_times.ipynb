{
 "cells": [
  {
   "cell_type": "markdown",
   "metadata": {},
   "source": [
    "# Interpolating wait times"
   ]
  },
  {
   "cell_type": "markdown",
   "metadata": {},
   "source": [
    "## import necessary packages"
   ]
  },
  {
   "cell_type": "code",
   "execution_count": 1,
   "metadata": {},
   "outputs": [],
   "source": [
    "import pandas as pd"
   ]
  },
  {
   "cell_type": "markdown",
   "metadata": {},
   "source": [
    "## import data"
   ]
  },
  {
   "cell_type": "code",
   "execution_count": 101,
   "metadata": {},
   "outputs": [],
   "source": [
    "ed_df = pd.read_csv('../data/hour_extracted/edmonds.csv')\n",
    "ki_df = pd.read_csv('../data/hour_extracted/kingston.csv')"
   ]
  },
  {
   "cell_type": "code",
   "execution_count": 102,
   "metadata": {},
   "outputs": [
    {
     "data": {
      "text/html": [
       "<div>\n",
       "<style scoped>\n",
       "    .dataframe tbody tr th:only-of-type {\n",
       "        vertical-align: middle;\n",
       "    }\n",
       "\n",
       "    .dataframe tbody tr th {\n",
       "        vertical-align: top;\n",
       "    }\n",
       "\n",
       "    .dataframe thead th {\n",
       "        text-align: right;\n",
       "    }\n",
       "</style>\n",
       "<table border=\"1\" class=\"dataframe\">\n",
       "  <thead>\n",
       "    <tr style=\"text-align: right;\">\n",
       "      <th></th>\n",
       "      <th>tweet_text</th>\n",
       "      <th>time</th>\n",
       "      <th>wait_time</th>\n",
       "    </tr>\n",
       "  </thead>\n",
       "  <tbody>\n",
       "    <tr>\n",
       "      <th>0</th>\n",
       "      <td>edmonds terminal wait time - one hour</td>\n",
       "      <td>2018-02-09 23:35 +0000</td>\n",
       "      <td>1.0</td>\n",
       "    </tr>\n",
       "    <tr>\n",
       "      <th>1</th>\n",
       "      <td>update - no extended wait in edmonds</td>\n",
       "      <td>2018-02-10 02:05 +0000</td>\n",
       "      <td>0.0</td>\n",
       "    </tr>\n",
       "    <tr>\n",
       "      <th>2</th>\n",
       "      <td>update - no extended wait departing edmonds</td>\n",
       "      <td>2018-02-10 03:35 +0000</td>\n",
       "      <td>0.0</td>\n",
       "    </tr>\n",
       "    <tr>\n",
       "      <th>3</th>\n",
       "      <td>edmonds terminal wait time - one hour</td>\n",
       "      <td>2018-02-10 20:25 +0000</td>\n",
       "      <td>1.0</td>\n",
       "    </tr>\n",
       "    <tr>\n",
       "      <th>4</th>\n",
       "      <td>update - no extended wait departing edmonds</td>\n",
       "      <td>2018-02-11 00:30 +0000</td>\n",
       "      <td>0.0</td>\n",
       "    </tr>\n",
       "  </tbody>\n",
       "</table>\n",
       "</div>"
      ],
      "text/plain": [
       "                                    tweet_text                    time  \\\n",
       "0        edmonds terminal wait time - one hour  2018-02-09 23:35 +0000   \n",
       "1         update - no extended wait in edmonds  2018-02-10 02:05 +0000   \n",
       "2  update - no extended wait departing edmonds  2018-02-10 03:35 +0000   \n",
       "3        edmonds terminal wait time - one hour  2018-02-10 20:25 +0000   \n",
       "4  update - no extended wait departing edmonds  2018-02-11 00:30 +0000   \n",
       "\n",
       "   wait_time  \n",
       "0        1.0  \n",
       "1        0.0  \n",
       "2        0.0  \n",
       "3        1.0  \n",
       "4        0.0  "
      ]
     },
     "execution_count": 102,
     "metadata": {},
     "output_type": "execute_result"
    }
   ],
   "source": [
    "ed_df.head()"
   ]
  },
  {
   "cell_type": "markdown",
   "metadata": {},
   "source": [
    "## convert to datetime, fill unreported hours"
   ]
  },
  {
   "cell_type": "code",
   "execution_count": 103,
   "metadata": {},
   "outputs": [],
   "source": [
    "# convert to datetime\n",
    "ed_df['time'] = pd.to_datetime(ed_df['time'], utc=True)"
   ]
  },
  {
   "cell_type": "code",
   "execution_count": 104,
   "metadata": {},
   "outputs": [],
   "source": [
    "# set time as index\n",
    "ed_df = ed_df.set_index('time')"
   ]
  },
  {
   "cell_type": "code",
   "execution_count": 105,
   "metadata": {
    "scrolled": true
   },
   "outputs": [],
   "source": [
    "# convert to US/Pacific time zone\n",
    "ed_df = ed_df.tz_convert('US/Pacific')"
   ]
  },
  {
   "cell_type": "code",
   "execution_count": 106,
   "metadata": {},
   "outputs": [],
   "source": [
    "# add starting hour with no wait\n",
    "sod = pd.date_range('2016-12-24 05:00:00', '2019-12-31 5:00:00', freq='D')\n",
    "sod_df = pd.DataFrame(sod)\n",
    "sod_df.columns = ['time']\n",
    "sod_df = sod_df.set_index('time')"
   ]
  },
  {
   "cell_type": "code",
   "execution_count": 107,
   "metadata": {},
   "outputs": [],
   "source": [
    "sod_df['wait_time'] = 0\n",
    "sod_df.index = sod_df.index.tz_localize('US/Pacific')"
   ]
  },
  {
   "cell_type": "code",
   "execution_count": 108,
   "metadata": {},
   "outputs": [],
   "source": [
    "ed_df = ed_df.append(sod_df)"
   ]
  },
  {
   "cell_type": "code",
   "execution_count": 109,
   "metadata": {},
   "outputs": [
    {
     "data": {
      "text/html": [
       "<div>\n",
       "<style scoped>\n",
       "    .dataframe tbody tr th:only-of-type {\n",
       "        vertical-align: middle;\n",
       "    }\n",
       "\n",
       "    .dataframe tbody tr th {\n",
       "        vertical-align: top;\n",
       "    }\n",
       "\n",
       "    .dataframe thead th {\n",
       "        text-align: right;\n",
       "    }\n",
       "</style>\n",
       "<table border=\"1\" class=\"dataframe\">\n",
       "  <thead>\n",
       "    <tr style=\"text-align: right;\">\n",
       "      <th></th>\n",
       "      <th>tweet_text</th>\n",
       "      <th>wait_time</th>\n",
       "    </tr>\n",
       "    <tr>\n",
       "      <th>time</th>\n",
       "      <th></th>\n",
       "      <th></th>\n",
       "    </tr>\n",
       "  </thead>\n",
       "  <tbody>\n",
       "    <tr>\n",
       "      <th>2018-02-09 15:35:00-08:00</th>\n",
       "      <td>edmonds terminal wait time - one hour</td>\n",
       "      <td>1.0</td>\n",
       "    </tr>\n",
       "    <tr>\n",
       "      <th>2018-02-09 18:05:00-08:00</th>\n",
       "      <td>update - no extended wait in edmonds</td>\n",
       "      <td>0.0</td>\n",
       "    </tr>\n",
       "    <tr>\n",
       "      <th>2018-02-09 19:35:00-08:00</th>\n",
       "      <td>update - no extended wait departing edmonds</td>\n",
       "      <td>0.0</td>\n",
       "    </tr>\n",
       "    <tr>\n",
       "      <th>2018-02-10 12:25:00-08:00</th>\n",
       "      <td>edmonds terminal wait time - one hour</td>\n",
       "      <td>1.0</td>\n",
       "    </tr>\n",
       "    <tr>\n",
       "      <th>2018-02-10 16:30:00-08:00</th>\n",
       "      <td>update - no extended wait departing edmonds</td>\n",
       "      <td>0.0</td>\n",
       "    </tr>\n",
       "    <tr>\n",
       "      <th>...</th>\n",
       "      <td>...</td>\n",
       "      <td>...</td>\n",
       "    </tr>\n",
       "    <tr>\n",
       "      <th>2019-12-27 05:00:00-08:00</th>\n",
       "      <td>NaN</td>\n",
       "      <td>0.0</td>\n",
       "    </tr>\n",
       "    <tr>\n",
       "      <th>2019-12-28 05:00:00-08:00</th>\n",
       "      <td>NaN</td>\n",
       "      <td>0.0</td>\n",
       "    </tr>\n",
       "    <tr>\n",
       "      <th>2019-12-29 05:00:00-08:00</th>\n",
       "      <td>NaN</td>\n",
       "      <td>0.0</td>\n",
       "    </tr>\n",
       "    <tr>\n",
       "      <th>2019-12-30 05:00:00-08:00</th>\n",
       "      <td>NaN</td>\n",
       "      <td>0.0</td>\n",
       "    </tr>\n",
       "    <tr>\n",
       "      <th>2019-12-31 05:00:00-08:00</th>\n",
       "      <td>NaN</td>\n",
       "      <td>0.0</td>\n",
       "    </tr>\n",
       "  </tbody>\n",
       "</table>\n",
       "<p>2097 rows × 2 columns</p>\n",
       "</div>"
      ],
      "text/plain": [
       "                                                            tweet_text  \\\n",
       "time                                                                     \n",
       "2018-02-09 15:35:00-08:00        edmonds terminal wait time - one hour   \n",
       "2018-02-09 18:05:00-08:00         update - no extended wait in edmonds   \n",
       "2018-02-09 19:35:00-08:00  update - no extended wait departing edmonds   \n",
       "2018-02-10 12:25:00-08:00        edmonds terminal wait time - one hour   \n",
       "2018-02-10 16:30:00-08:00  update - no extended wait departing edmonds   \n",
       "...                                                                ...   \n",
       "2019-12-27 05:00:00-08:00                                          NaN   \n",
       "2019-12-28 05:00:00-08:00                                          NaN   \n",
       "2019-12-29 05:00:00-08:00                                          NaN   \n",
       "2019-12-30 05:00:00-08:00                                          NaN   \n",
       "2019-12-31 05:00:00-08:00                                          NaN   \n",
       "\n",
       "                           wait_time  \n",
       "time                                  \n",
       "2018-02-09 15:35:00-08:00        1.0  \n",
       "2018-02-09 18:05:00-08:00        0.0  \n",
       "2018-02-09 19:35:00-08:00        0.0  \n",
       "2018-02-10 12:25:00-08:00        1.0  \n",
       "2018-02-10 16:30:00-08:00        0.0  \n",
       "...                              ...  \n",
       "2019-12-27 05:00:00-08:00        0.0  \n",
       "2019-12-28 05:00:00-08:00        0.0  \n",
       "2019-12-29 05:00:00-08:00        0.0  \n",
       "2019-12-30 05:00:00-08:00        0.0  \n",
       "2019-12-31 05:00:00-08:00        0.0  \n",
       "\n",
       "[2097 rows x 2 columns]"
      ]
     },
     "execution_count": 109,
     "metadata": {},
     "output_type": "execute_result"
    }
   ],
   "source": [
    "ed_df"
   ]
  },
  {
   "cell_type": "code",
   "execution_count": 110,
   "metadata": {},
   "outputs": [],
   "source": [
    "# resample times to hour intervals, adding the \"missing\" hours, \n",
    "# and filling the wait time forward\n",
    "ed_df = ed_df.resample('1H').ffill()"
   ]
  },
  {
   "cell_type": "code",
   "execution_count": 114,
   "metadata": {
    "scrolled": true
   },
   "outputs": [],
   "source": [
    "# remove non-sailing times (1-4am for Edmonds, 1-3 am for Kingston)\n",
    "ed_df = ed_df.between_time('5:00', '0:55')"
   ]
  },
  {
   "cell_type": "markdown",
   "metadata": {},
   "source": [
    "## expand date features"
   ]
  },
  {
   "cell_type": "code",
   "execution_count": 123,
   "metadata": {},
   "outputs": [],
   "source": [
    "ed_df['year'] = ed_df.index.year\n",
    "ed_df['month'] = ed_df.index.month\n",
    "ed_df['day'] = ed_df.index.day\n",
    "ed_df['hour'] = ed_df.index.hour\n",
    "ed_df['dayofyear'] = ed_df.index.dayofyear\n",
    "ed_df['week'] = ed_df.index.week\n",
    "ed_df['weekday'] = ed_df.index.weekday"
   ]
  },
  {
   "cell_type": "code",
   "execution_count": 124,
   "metadata": {},
   "outputs": [
    {
     "data": {
      "text/html": [
       "<div>\n",
       "<style scoped>\n",
       "    .dataframe tbody tr th:only-of-type {\n",
       "        vertical-align: middle;\n",
       "    }\n",
       "\n",
       "    .dataframe tbody tr th {\n",
       "        vertical-align: top;\n",
       "    }\n",
       "\n",
       "    .dataframe thead th {\n",
       "        text-align: right;\n",
       "    }\n",
       "</style>\n",
       "<table border=\"1\" class=\"dataframe\">\n",
       "  <thead>\n",
       "    <tr style=\"text-align: right;\">\n",
       "      <th></th>\n",
       "      <th>tweet_text</th>\n",
       "      <th>wait_time</th>\n",
       "      <th>year</th>\n",
       "      <th>month</th>\n",
       "      <th>day</th>\n",
       "      <th>hour</th>\n",
       "      <th>dayofyear</th>\n",
       "      <th>week</th>\n",
       "      <th>weekday</th>\n",
       "    </tr>\n",
       "    <tr>\n",
       "      <th>time</th>\n",
       "      <th></th>\n",
       "      <th></th>\n",
       "      <th></th>\n",
       "      <th></th>\n",
       "      <th></th>\n",
       "      <th></th>\n",
       "      <th></th>\n",
       "      <th></th>\n",
       "      <th></th>\n",
       "    </tr>\n",
       "  </thead>\n",
       "  <tbody>\n",
       "    <tr>\n",
       "      <th>2016-12-24 05:00:00-08:00</th>\n",
       "      <td>NaN</td>\n",
       "      <td>0.0</td>\n",
       "      <td>2016</td>\n",
       "      <td>12</td>\n",
       "      <td>24</td>\n",
       "      <td>5</td>\n",
       "      <td>359</td>\n",
       "      <td>51</td>\n",
       "      <td>5</td>\n",
       "    </tr>\n",
       "    <tr>\n",
       "      <th>2016-12-24 06:00:00-08:00</th>\n",
       "      <td>NaN</td>\n",
       "      <td>0.0</td>\n",
       "      <td>2016</td>\n",
       "      <td>12</td>\n",
       "      <td>24</td>\n",
       "      <td>6</td>\n",
       "      <td>359</td>\n",
       "      <td>51</td>\n",
       "      <td>5</td>\n",
       "    </tr>\n",
       "    <tr>\n",
       "      <th>2016-12-24 07:00:00-08:00</th>\n",
       "      <td>NaN</td>\n",
       "      <td>0.0</td>\n",
       "      <td>2016</td>\n",
       "      <td>12</td>\n",
       "      <td>24</td>\n",
       "      <td>7</td>\n",
       "      <td>359</td>\n",
       "      <td>51</td>\n",
       "      <td>5</td>\n",
       "    </tr>\n",
       "    <tr>\n",
       "      <th>2016-12-24 08:00:00-08:00</th>\n",
       "      <td>NaN</td>\n",
       "      <td>0.0</td>\n",
       "      <td>2016</td>\n",
       "      <td>12</td>\n",
       "      <td>24</td>\n",
       "      <td>8</td>\n",
       "      <td>359</td>\n",
       "      <td>51</td>\n",
       "      <td>5</td>\n",
       "    </tr>\n",
       "    <tr>\n",
       "      <th>2016-12-24 09:00:00-08:00</th>\n",
       "      <td>NaN</td>\n",
       "      <td>0.0</td>\n",
       "      <td>2016</td>\n",
       "      <td>12</td>\n",
       "      <td>24</td>\n",
       "      <td>9</td>\n",
       "      <td>359</td>\n",
       "      <td>51</td>\n",
       "      <td>5</td>\n",
       "    </tr>\n",
       "  </tbody>\n",
       "</table>\n",
       "</div>"
      ],
      "text/plain": [
       "                          tweet_text  wait_time  year  month  day  hour  \\\n",
       "time                                                                      \n",
       "2016-12-24 05:00:00-08:00        NaN        0.0  2016     12   24     5   \n",
       "2016-12-24 06:00:00-08:00        NaN        0.0  2016     12   24     6   \n",
       "2016-12-24 07:00:00-08:00        NaN        0.0  2016     12   24     7   \n",
       "2016-12-24 08:00:00-08:00        NaN        0.0  2016     12   24     8   \n",
       "2016-12-24 09:00:00-08:00        NaN        0.0  2016     12   24     9   \n",
       "\n",
       "                           dayofyear  week  weekday  \n",
       "time                                                 \n",
       "2016-12-24 05:00:00-08:00        359    51        5  \n",
       "2016-12-24 06:00:00-08:00        359    51        5  \n",
       "2016-12-24 07:00:00-08:00        359    51        5  \n",
       "2016-12-24 08:00:00-08:00        359    51        5  \n",
       "2016-12-24 09:00:00-08:00        359    51        5  "
      ]
     },
     "execution_count": 124,
     "metadata": {},
     "output_type": "execute_result"
    }
   ],
   "source": [
    "ed_df.head()"
   ]
  },
  {
   "cell_type": "code",
   "execution_count": 125,
   "metadata": {},
   "outputs": [],
   "source": [
    "ed_df.reset_index().drop(columns=['tweet_text']).to_csv('~/ds0805/blogs/edmonds.csv', index=False)"
   ]
  },
  {
   "cell_type": "markdown",
   "metadata": {},
   "source": [
    "## Holidays\n",
    "\n",
    "https://pandas.pydata.org/pandas-docs/stable/user_guide/timeseries.html#holidays-holiday-calendars"
   ]
  },
  {
   "cell_type": "code",
   "execution_count": null,
   "metadata": {},
   "outputs": [],
   "source": []
  }
 ],
 "metadata": {
  "kernelspec": {
   "display_name": "Python 3 (learn-env)",
   "language": "python",
   "name": "learn-env"
  },
  "language_info": {
   "codemirror_mode": {
    "name": "ipython",
    "version": 3
   },
   "file_extension": ".py",
   "mimetype": "text/x-python",
   "name": "python",
   "nbconvert_exporter": "python",
   "pygments_lexer": "ipython3",
   "version": "3.6.6"
  }
 },
 "nbformat": 4,
 "nbformat_minor": 2
}
